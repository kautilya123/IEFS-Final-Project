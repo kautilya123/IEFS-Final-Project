{
 "cells": [
  {
   "cell_type": "code",
   "execution_count": 1,
   "metadata": {},
   "outputs": [],
   "source": [
    "import pandas as pd\n",
    "from sklearn.linear_model import LinearRegression, Ridge\n",
    "from sklearn.model_selection import train_test_split\n",
    "from sklearn.preprocessing import StandardScaler\n",
    "from sklearn.metrics import mean_squared_error\n"
   ]
  },
  {
   "cell_type": "code",
   "execution_count": 9,
   "metadata": {},
   "outputs": [
    {
     "name": "stdout",
     "output_type": "stream",
     "text": [
      "Index(['        Year \\n ', 'Domestic liabilities of the Centre',\n",
      "       'External liabilities of the Centre',\n",
      "       'Total liabilities of the Centre ', 'Gross fiscal deficit',\n",
      "       'Revenue deficit', 'Tax Revenue (Net)', 'Direct Tax (Net)',\n",
      "       'Indirect Tax', 'Non-Tax Revenue', 'Revenue Receipts',\n",
      "       'Capital Receipts', 'Total Receipts',\n",
      "       'Volume of Central Govt Dated Securities', 'Rate of inflation',\n",
      "       'Change from previous year', 'CRR', 'Repo Rate'],\n",
      "      dtype='object')\n"
     ]
    }
   ],
   "source": [
    "# Load the data\n",
    "df = pd.read_excel('consolidated_workbook.xlsx')\n",
    "\n",
    "print(df.columns)"
   ]
  },
  {
   "cell_type": "code",
   "execution_count": 10,
   "metadata": {},
   "outputs": [],
   "source": [
    "\n",
    "\n",
    "# Define the feature and target columns\n",
    "predictors = ['Domestic liabilities of the Centre', 'External liabilities of the Centre', 'Total liabilities of the Centre ',\n",
    "              'Gross fiscal deficit', 'Revenue deficit', 'Tax Revenue (Net)', 'Direct Tax (Net)', 'Indirect Tax',\n",
    "              'Non-Tax Revenue', 'Revenue Receipts', 'Capital Receipts', 'Total Receipts', 'Volume of Central Govt Dated Securities']\n",
    "\n",
    "control_variables = ['CRR', 'Repo Rate']\n",
    "target_inflation = 'Rate of inflation'\n",
    "target_change_inflation = 'Change from previous year'\n",
    "\n",
    "# Combine predictors and control variables\n",
    "X = df[predictors + control_variables]\n",
    "\n",
    "# Targets\n",
    "y_inflation = df[target_inflation]\n",
    "y_change_inflation = df[target_change_inflation]\n",
    "\n",
    "# Standardize the predictors and control variables\n",
    "scaler = StandardScaler()\n",
    "X_scaled = scaler.fit_transform(X)\n"
   ]
  },
  {
   "cell_type": "code",
   "execution_count": 11,
   "metadata": {},
   "outputs": [],
   "source": [
    "# Split the data into training and testing sets for both target variables\n",
    "X_train_infl, X_test_infl, y_train_infl, y_test_infl = train_test_split(X_scaled, y_inflation, test_size=0.2, random_state=42)\n",
    "X_train_change_infl, X_test_change_infl, y_train_change_infl, y_test_change_infl = train_test_split(X_scaled, y_change_inflation, test_size=0.2, random_state=42)\n"
   ]
  },
  {
   "cell_type": "code",
   "execution_count": 19,
   "metadata": {},
   "outputs": [],
   "source": [
    "# Adding a constant to the model (intercept)\n",
    "X_train_infl_sm = sm.add_constant(X_train_infl)\n",
    "X_test_infl_sm = sm.add_constant(X_test_infl)\n",
    "\n",
    "X_train_change_infl_sm = sm.add_constant(X_train_change_infl)\n",
    "X_test_change_infl_sm = sm.add_constant(X_test_change_infl)\n",
    "\n",
    "# OLS Regression for rate of inflation\n",
    "ols_infl = sm.OLS(y_train_infl, X_train_infl_sm).fit()\n",
    "y_pred_infl_sm = ols_infl.predict(X_test_infl_sm)\n",
    "mse_infl_sm = mean_squared_error(y_test_infl, y_pred_infl_sm)\n",
    "\n",
    "# OLS Regression for change in inflation\n",
    "ols_change_infl = sm.OLS(y_train_change_infl, X_train_change_infl_sm).fit()\n",
    "y_pred_change_infl_sm = ols_change_infl.predict(X_test_change_infl_sm)\n",
    "mse_change_infl_sm = mean_squared_error(y_test_change_infl, y_pred_change_infl_sm)\n"
   ]
  },
  {
   "cell_type": "code",
   "execution_count": 20,
   "metadata": {},
   "outputs": [],
   "source": [
    "# Ridge Regression for rate of inflation\n",
    "ridge_reg_infl = Ridge(alpha=1.0)\n",
    "ridge_reg_infl.fit(X_train_infl, y_train_infl)\n",
    "y_pred_ridge_infl = ridge_reg_infl.predict(X_test_infl)\n",
    "mse_ridge_infl = mean_squared_error(y_test_infl, y_pred_ridge_infl)\n",
    "\n",
    "# Ridge Regression for change in inflation\n",
    "ridge_reg_change_infl = Ridge(alpha=1.0)\n",
    "ridge_reg_change_infl.fit(X_train_change_infl, y_train_change_infl)\n",
    "y_pred_ridge_change_infl = ridge_reg_change_infl.predict(X_test_change_infl)\n",
    "mse_ridge_change_infl = mean_squared_error(y_test_change_infl, y_pred_ridge_change_infl)\n"
   ]
  },
  {
   "cell_type": "code",
   "execution_count": 29,
   "metadata": {},
   "outputs": [
    {
     "name": "stdout",
     "output_type": "stream",
     "text": [
      "\n",
      "Linear Regression (OLS) MSE (Inflation): 5.486038279474197\n",
      "Linear Regression (OLS) MSE (Change in Inflation): 20.453879645804495\n",
      "Ridge Regression MSE (Inflation): 6.9337433995942295\n",
      "Ridge Regression MSE (Change in Inflation): 3.299737560712552\n"
     ]
    }
   ],
   "source": [
    "\n",
    "\n",
    "# Display the MSE for both models\n",
    "print(f'\\nLinear Regression (OLS) MSE (Inflation): {mse_infl_sm}')\n",
    "print(f'Linear Regression (OLS) MSE (Change in Inflation): {mse_change_infl_sm}')\n",
    "print(f'Ridge Regression MSE (Inflation): {mse_ridge_infl}')\n",
    "print(f'Ridge Regression MSE (Change in Inflation): {mse_ridge_change_infl}')\n",
    "\n"
   ]
  },
  {
   "cell_type": "code",
   "execution_count": 22,
   "metadata": {},
   "outputs": [
    {
     "name": "stdout",
     "output_type": "stream",
     "text": [
      "OLS Regression Summary for Inflation:\n",
      "                            OLS Regression Results                            \n",
      "==============================================================================\n",
      "Dep. Variable:      Rate of inflation   R-squared:                       0.993\n",
      "Model:                            OLS   Adj. R-squared:                  0.939\n",
      "Method:                 Least Squares   F-statistic:                     18.43\n",
      "Date:                Wed, 22 May 2024   Prob (F-statistic):             0.0526\n",
      "Time:                        14:10:29   Log-Likelihood:                 1.2684\n",
      "No. Observations:                  18   AIC:                             29.46\n",
      "Df Residuals:                       2   BIC:                             43.71\n",
      "Df Model:                          15                                         \n",
      "Covariance Type:            nonrobust                                         \n",
      "==============================================================================\n",
      "                 coef    std err          t      P>|t|      [0.025      0.975]\n",
      "------------------------------------------------------------------------------\n",
      "const          5.9327      0.189     31.435      0.001       5.121       6.745\n",
      "x1          2.463e+07   1.35e+07      1.826      0.209   -3.34e+07    8.27e+07\n",
      "x2          1.019e+06   5.58e+05      1.826      0.209   -1.38e+06    3.42e+06\n",
      "x3         -2.565e+07    1.4e+07     -1.826      0.209   -8.61e+07    3.48e+07\n",
      "x4            19.8629      6.647      2.988      0.096      -8.739      48.465\n",
      "x5            -0.3658      2.240     -0.163      0.885     -10.006       9.274\n",
      "x6          2.159e+06   7.24e+05      2.981      0.097   -9.57e+05    5.28e+06\n",
      "x7         -6.973e+04    1.1e+05     -0.637      0.590   -5.41e+05    4.02e+05\n",
      "x8         -7.829e+04   1.23e+05     -0.637      0.589   -6.07e+05    4.51e+05\n",
      "x9          3.216e+05   9.57e+04      3.360      0.078   -9.02e+04    7.33e+05\n",
      "x10        -3.191e+05    9.3e+05     -0.343      0.764   -4.32e+06    3.68e+06\n",
      "x11         1.618e+06   5.75e+05      2.815      0.106   -8.55e+05    4.09e+06\n",
      "x12        -3.508e+06   1.25e+06     -2.815      0.106   -8.87e+06    1.85e+06\n",
      "x13           -5.3252      1.300     -4.097      0.055     -10.918       0.268\n",
      "x14           -1.5278      0.760     -2.010      0.182      -4.799       1.743\n",
      "x15           -0.6506      0.474     -1.373      0.303      -2.690       1.388\n",
      "==============================================================================\n",
      "Omnibus:                        0.998   Durbin-Watson:                   2.619\n",
      "Prob(Omnibus):                  0.607   Jarque-Bera (JB):                0.216\n",
      "Skew:                          -0.253   Prob(JB):                        0.898\n",
      "Kurtosis:                       3.182   Cond. No.                     4.24e+08\n",
      "==============================================================================\n",
      "\n",
      "Notes:\n",
      "[1] Standard Errors assume that the covariance matrix of the errors is correctly specified.\n",
      "[2] The smallest eigenvalue is 1.21e-15. This might indicate that there are\n",
      "strong multicollinearity problems or that the design matrix is singular.\n",
      "\n",
      "OLS Regression Summary for Change in Inflation:\n",
      "                                OLS Regression Results                               \n",
      "=====================================================================================\n",
      "Dep. Variable:     Change from previous year   R-squared:                       0.984\n",
      "Model:                                   OLS   Adj. R-squared:                  0.863\n",
      "Method:                        Least Squares   F-statistic:                     8.141\n",
      "Date:                       Wed, 22 May 2024   Prob (F-statistic):              0.115\n",
      "Time:                               14:10:29   Log-Likelihood:                 4.1581\n",
      "No. Observations:                         18   AIC:                             23.68\n",
      "Df Residuals:                              2   BIC:                             37.93\n",
      "Df Model:                                 15                                         \n",
      "Covariance Type:                   nonrobust                                         \n",
      "==============================================================================\n",
      "                 coef    std err          t      P>|t|      [0.025      0.975]\n",
      "------------------------------------------------------------------------------\n",
      "const         -0.0546      0.161     -0.340      0.766      -0.746       0.637\n",
      "x1          1.167e+07   1.15e+07      1.016      0.417   -3.78e+07    6.11e+07\n",
      "x2          4.826e+05   4.75e+05      1.016      0.417   -1.56e+06    2.53e+06\n",
      "x3         -1.215e+07    1.2e+07     -1.016      0.417   -6.36e+07    3.93e+07\n",
      "x4            10.7313      5.662      1.895      0.199     -13.628      35.091\n",
      "x5             8.3874      1.908      4.395      0.048       0.177      16.598\n",
      "x6          2.753e+05   6.17e+05      0.446      0.699   -2.38e+06    2.93e+06\n",
      "x7          2320.7600   9.33e+04      0.025      0.982   -3.99e+05    4.04e+05\n",
      "x8          2599.3831   1.05e+05      0.025      0.982   -4.48e+05    4.53e+05\n",
      "x9          4.476e+04   8.15e+04      0.549      0.638   -3.06e+05    3.96e+05\n",
      "x10         2.673e+06   7.92e+05      3.377      0.078   -7.33e+05    6.08e+06\n",
      "x11         2.438e+06   4.89e+05      4.982      0.038    3.32e+05    4.54e+06\n",
      "x12        -5.288e+06   1.06e+06     -4.982      0.038   -9.86e+06   -7.21e+05\n",
      "x13           -1.4214      1.107     -1.284      0.328      -6.185       3.342\n",
      "x14            0.0931      0.647      0.144      0.899      -2.693       2.879\n",
      "x15           -0.7441      0.404     -1.844      0.207      -2.481       0.992\n",
      "==============================================================================\n",
      "Omnibus:                        8.444   Durbin-Watson:                   2.499\n",
      "Prob(Omnibus):                  0.015   Jarque-Bera (JB):                6.016\n",
      "Skew:                           0.888   Prob(JB):                       0.0494\n",
      "Kurtosis:                       5.206   Cond. No.                     4.24e+08\n",
      "==============================================================================\n",
      "\n",
      "Notes:\n",
      "[1] Standard Errors assume that the covariance matrix of the errors is correctly specified.\n",
      "[2] The smallest eigenvalue is 1.21e-15. This might indicate that there are\n",
      "strong multicollinearity problems or that the design matrix is singular.\n"
     ]
    },
    {
     "name": "stderr",
     "output_type": "stream",
     "text": [
      "/home/rahul/.local/lib/python3.11/site-packages/scipy/stats/_stats_py.py:1971: UserWarning: kurtosistest only valid for n>=20 ... continuing anyway, n=18\n",
      "  k, _ = kurtosistest(a, axis)\n"
     ]
    }
   ],
   "source": [
    "# Display the OLS summary for inflation\n",
    "print(f'OLS Regression Summary for Inflation:')\n",
    "print(ols_infl.summary())\n",
    "\n",
    "# Display the OLS summary for change in inflation\n",
    "print(f'\\nOLS Regression Summary for Change in Inflation:')\n",
    "print(ols_change_infl.summary())\n",
    "\n"
   ]
  },
  {
   "cell_type": "code",
   "execution_count": 25,
   "metadata": {},
   "outputs": [
    {
     "name": "stdout",
     "output_type": "stream",
     "text": [
      "\n",
      "Ridge Regression Coefficients (Inflation):\n",
      "Domestic liabilities of the Centre        -1.181050\n",
      "External liabilities of the Centre        -0.949901\n",
      "Total liabilities of the Centre           -1.172062\n",
      "Gross fiscal deficit                       0.062891\n",
      "Revenue deficit                            0.365478\n",
      "Tax Revenue (Net)                         -0.079092\n",
      "Direct Tax (Net)                           1.840831\n",
      "Indirect Tax                              -1.787632\n",
      "Non-Tax Revenue                            1.020084\n",
      "Revenue Receipts                           0.073255\n",
      "Capital Receipts                           1.240223\n",
      "Total Receipts                             0.613344\n",
      "Volume of Central Govt Dated Securities   -0.295258\n",
      "CRR                                        1.094443\n",
      "Repo Rate                                 -1.322331\n",
      "dtype: float64\n",
      "\n",
      "Ridge Regression Coefficients (Change in Inflation):\n",
      "Domestic liabilities of the Centre        -0.131691\n",
      "External liabilities of the Centre        -0.684111\n",
      "Total liabilities of the Centre           -0.153656\n",
      "Gross fiscal deficit                       0.266479\n",
      "Revenue deficit                            1.038562\n",
      "Tax Revenue (Net)                         -0.161302\n",
      "Direct Tax (Net)                           0.363796\n",
      "Indirect Tax                              -0.625566\n",
      "Non-Tax Revenue                           -0.045604\n",
      "Revenue Receipts                          -0.147200\n",
      "Capital Receipts                          -0.054827\n",
      "Total Receipts                            -0.108622\n",
      "Volume of Central Govt Dated Securities    0.236066\n",
      "CRR                                        0.085703\n",
      "Repo Rate                                 -0.439854\n",
      "dtype: float64\n"
     ]
    }
   ],
   "source": [
    "\n",
    "\n",
    "# Display the coefficients for Ridge Regression\n",
    "print('\\nRidge Regression Coefficients (Inflation):')\n",
    "print(pd.Series(ridge_reg_infl.coef_, index=predictors + control_variables))\n",
    "\n",
    "print('\\nRidge Regression Coefficients (Change in Inflation):')\n",
    "print(pd.Series(ridge_reg_change_infl.coef_, index=predictors + control_variables))\n",
    "\n"
   ]
  },
  {
   "cell_type": "code",
   "execution_count": 27,
   "metadata": {},
   "outputs": [
    {
     "name": "stdout",
     "output_type": "stream",
     "text": [
      "\n",
      "Linear Regression (OLS) Predictions (Inflation):\n",
      "     Actual  Predicted\n",
      "15   6.3729   7.098697\n",
      "9   10.0179   9.315666\n",
      "0    6.6990   1.705648\n",
      "8    6.6657   7.388646\n",
      "17   4.2463   3.269540\n",
      "\n",
      "Linear Regression (OLS) Predictions (Change in Inflation):\n",
      "    Actual  Predicted\n",
      "15    0.58  -0.610734\n",
      "9     0.54  -2.604202\n",
      "0     1.57  -4.882828\n",
      "8    -3.35   3.656513\n",
      "17    0.48   0.965104\n"
     ]
    }
   ],
   "source": [
    "\n",
    "\n",
    "# Display the predictions\n",
    "print('\\nLinear Regression (OLS) Predictions (Inflation):')\n",
    "print(pd.DataFrame({'Actual': y_test_infl, 'Predicted': y_pred_infl_sm}))\n",
    "\n",
    "print('\\nLinear Regression (OLS) Predictions (Change in Inflation):')\n",
    "print(pd.DataFrame({'Actual': y_test_change_infl, 'Predicted': y_pred_change_infl_sm}))\n",
    "\n"
   ]
  },
  {
   "cell_type": "code",
   "execution_count": 28,
   "metadata": {},
   "outputs": [
    {
     "name": "stdout",
     "output_type": "stream",
     "text": [
      "\n",
      "Ridge Regression Predictions (Inflation):\n",
      "     Actual  Predicted\n",
      "15   6.3729   6.331802\n",
      "9   10.0179   5.193975\n",
      "0    6.6990   5.132896\n",
      "8    6.6657   4.322697\n",
      "17   4.2463   6.104911\n",
      "\n",
      "Ridge Regression Predictions (Change in Inflation):\n",
      "    Actual  Predicted\n",
      "15    0.58  -0.310542\n",
      "9     0.54  -0.163404\n",
      "0     1.57  -0.805579\n",
      "8    -3.35  -0.256936\n",
      "17    0.48   0.459255\n"
     ]
    }
   ],
   "source": [
    "\n",
    "\n",
    "print('\\nRidge Regression Predictions (Inflation):')\n",
    "print(pd.DataFrame({'Actual': y_test_infl, 'Predicted': y_pred_ridge_infl}))\n",
    "\n",
    "print('\\nRidge Regression Predictions (Change in Inflation):')\n",
    "print(pd.DataFrame({'Actual': y_test_change_infl, 'Predicted': y_pred_ridge_change_infl}))\n"
   ]
  }
 ],
 "metadata": {
  "kernelspec": {
   "display_name": "Python 3 (ipykernel)",
   "language": "python",
   "name": "python3"
  },
  "language_info": {
   "codemirror_mode": {
    "name": "ipython",
    "version": 3
   },
   "file_extension": ".py",
   "mimetype": "text/x-python",
   "name": "python",
   "nbconvert_exporter": "python",
   "pygments_lexer": "ipython3",
   "version": "3.11.4"
  }
 },
 "nbformat": 4,
 "nbformat_minor": 2
}
